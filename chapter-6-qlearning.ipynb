{
 "cells": [
  {
   "cell_type": "markdown",
   "metadata": {},
   "source": [
    "# Importing packages \n"
   ]
  },
  {
   "cell_type": "code",
   "execution_count": 2,
   "metadata": {},
   "outputs": [],
   "source": [
    "# Array math \n",
    "import numpy as np \n",
    "\n",
    "# Typehinting\n",
    "from typing import Tuple\n",
    "\n",
    "# Plotting\n",
    "import matplotlib.pyplot as plt\n",
    "import matplotlib"
   ]
  },
  {
   "attachments": {},
   "cell_type": "markdown",
   "metadata": {},
   "source": [
    "# Q Learning \n",
    "\n",
    "Q learning is an off-policy TD algorithm to approximate the best optimal policy. \n",
    "\n",
    "Definitions: \n",
    "\n",
    "*Q value* - the value given for an action $a$ taken in state $s$. To put it more mathematically, it maps the actions and states to the real number plane: \n",
    "\n",
    "$$Q(a \\in \\mathbb{A}, s \\in \\mathbb{S}) \\rightarrow q \\in  \\mathbb{R}$$\n",
    "\n",
    "In practise, the bigger the q value for an action is, the \"better\" it is for the agent to take. "
   ]
  },
  {
   "attachments": {},
   "cell_type": "markdown",
   "metadata": {},
   "source": [
    "*Q table* - a matrix storing the Q values where each row is a state and each column is an action. \n",
    "\n",
    "*$\\epsilon$-greedy policy* - the policy where, at every decision point, the agent takes a random action with the probability of 1 - $\\epsilon$ and the action which has the biggest q value with the probability of $\\epsilon$, where $\\epsilon \\in [0, 1]$.\n",
    "\n",
    "*off-policy algorithm* - algorithms where the agent updates it's policy not using it's behavior policy. \n",
    "\n",
    "*behavior policy* - the policy used by the agent to make an action.\n",
    "\n",
    "Full algorithm for Q learning: \n",
    "\n",
    "1. Hyperparameters: \n",
    "\n",
    "1.1 Define step size $\\alpha \\in (0, 1]$\n",
    "\n",
    "1.2 Define $\\epsilon \\in [0, 1]$\n",
    "\n",
    "1.3 Define the discount factor $\\gamma \\in (0, 1]$\n",
    "\n",
    "1.4 Initialize the Q table where all the values are arbitraty except for terminal states $Q(terminal, *) = 0$\n",
    "\n",
    "1.5 Define the number of episodes $N$. \n",
    "\n",
    "2. Iterate for 1 to $N$:\n",
    "\n",
    "2.1 Pick a starting state s.\n",
    "\n",
    "2.2 Iterate until the agent reaches a terminal state: \n",
    "\n",
    "2.2.1 From the given state, pick an action $A$ using epsilon-greedy policy \n",
    "\n",
    "2.2.2 Take action $A$, observe the transition state $s^{'}$ and the reward $r$\n",
    "\n",
    "**2.2.3 Update the current Q value estimate:** \n",
    "\n",
    "$$ Q(S, A) \\leftarrow Q(S, A) + \\alpha \\left(r + \\gamma \\max_{a} Q(s^{'}, a) - Q(S, A)\\right)$$\n",
    "\n",
    "2.2.4 Set $s$ $\\leftarrow$ $s^{'}$\n",
    "\n",
    "The 2.2.3 update is the main part of the Q algorithm. "
   ]
  },
  {
   "attachments": {},
   "cell_type": "markdown",
   "metadata": {},
   "source": [
    "As we can see, in step 2.2.1, the behavior policy is the epslion-greedy policy. \n",
    "\n",
    "But when we update the current Q value, we do not use that behaviour policy - we update the current Q value from the future state Q value and not use the epsilon-greedy policy anywhere. "
   ]
  },
  {
   "attachments": {},
   "cell_type": "markdown",
   "metadata": {},
   "source": [
    "# Maze escape problem \n",
    "\n",
    "We will create a maze where: \n",
    "\n",
    "The agent starts at the bottom left corner of the maze. \n",
    "\n",
    "The goal is to reach the top right corner of the maze. \n",
    "\n",
    "In the middle of the maze we will generate some random wall blocks. \n",
    "\n",
    "When an agent tries to transition to a wall block, it will stay in the same state with a reward of -1. \n",
    "\n",
    "Every movement will give a reward of -0.1.\n",
    "\n",
    "Reaching the goal state terminates the episode and returns a reward of 1. "
   ]
  },
  {
   "attachments": {},
   "cell_type": "markdown",
   "metadata": {},
   "source": [
    "# Defining the ploting functions "
   ]
  },
  {
   "cell_type": "code",
   "execution_count": 23,
   "metadata": {},
   "outputs": [],
   "source": [
    "def array_index_to_matplot_coords(i: int, j: int, n_cols: int) -> Tuple[int, int]:\n",
    "    \"\"\"Converts an array index to a matplot coordinate\"\"\"\n",
    "    x = j\n",
    "    y = n_cols - i - 1\n",
    "    return x, y\n",
    "\n",
    "def plot_matrix(\n",
    "    M: np.array, \n",
    "    goal_coords: list = [],\n",
    "    hole_coords: list = [],\n",
    "    start_coords: list = [],\n",
    "    img_width: int = 5, \n",
    "    img_height: int = 5, \n",
    "    title: str = None,\n",
    "    ) -> None: \n",
    "    \"\"\"\n",
    "    Plots a matrix as an image.\n",
    "    \"\"\"\n",
    "    height, width = M.shape\n",
    "\n",
    "    fig = plt.figure(figsize=(img_width, img_width))\n",
    "    ax = fig.add_subplot(111, aspect='equal')\n",
    "    \n",
    "    for x in range(height):\n",
    "        for y in range(width):\n",
    "            # By default, the (0, 0) coordinate in matplotlib is the bottom left corner,\n",
    "            # so we need to invert the y coordinate to plot the matrix correctly\n",
    "            matplot_x, matplot_y = array_index_to_matplot_coords(x, y, height)\n",
    "            \n",
    "            # If there is a tuple of (x, y) in the goal_coords list, we color the cell gray \n",
    "            if (x, y) in goal_coords:\n",
    "                ax.add_patch(matplotlib.patches.Rectangle((matplot_x - 0.5, matplot_y - 0.5), 1, 1, facecolor='lightgreen'))\n",
    "            # If there is a tuple of (x, y) in the hole_coords list, we color the cell salmon\n",
    "            elif (x, y) in hole_coords:\n",
    "                ax.add_patch(matplotlib.patches.Rectangle((matplot_x - 0.5, matplot_y - 0.5), 1, 1, facecolor='salmon'))\n",
    "            # If there is a tuple of (x, y) in the start_coords list, we color the cell yellow\n",
    "            elif (x, y) in start_coords:\n",
    "                ax.add_patch(matplotlib.patches.Rectangle((matplot_x - 0.5, matplot_y - 0.5), 1, 1, facecolor='yellow'))\n",
    "\n",
    "            ax.annotate(str(M[x][y]), xy=(matplot_x, matplot_y), ha='center', va='center')\n",
    "\n",
    "    offset = .5    \n",
    "    ax.set_xlim(-offset, width - offset)\n",
    "    ax.set_ylim(-offset, height - offset)\n",
    "\n",
    "    ax.hlines(y=np.arange(height+1)- offset, xmin=-offset, xmax=width-offset)\n",
    "    ax.vlines(x=np.arange(width+1) - offset, ymin=-offset, ymax=height-offset)\n",
    "\n",
    "    plt.title(title)\n",
    "    plt.show()\n"
   ]
  },
  {
   "attachments": {},
   "cell_type": "markdown",
   "metadata": {},
   "source": [
    "# Defining the maze world "
   ]
  },
  {
   "cell_type": "code",
   "execution_count": 30,
   "metadata": {},
   "outputs": [],
   "source": [
    "def get_state_coords(s, S) -> tuple:\n",
    "    \"\"\"\n",
    "    Returns the state coordinates given the state index\n",
    "    \"\"\"\n",
    "    s_index = np.where(S == s)\n",
    "    return s_index[0][0], s_index[1][0]\n",
    "\n",
    "def init_maze(nrow: int, ncol: int, maze_density: int, seed: int) -> Tuple:\n",
    "    \"\"\"\n",
    "    Creates an array of states in a maze environment.\n",
    "\n",
    "    Returns\n",
    "    -------\n",
    "    maze : np.array\n",
    "        A 2D array of states in a maze environment.\n",
    "    wall_coords : list\n",
    "        A 1D array of wall states in the maze environment.\n",
    "    start_coords: tuple\n",
    "        A tuple of start coordinates in the maze environment.\n",
    "    goal_coords: tuple\n",
    "        A tuple of goal coordinates in the maze environment.\n",
    "    \"\"\"\n",
    "    # Setting the seed for reproducibility\n",
    "    np.random.seed(seed)\n",
    "\n",
    "    # Initiating the empty maze\n",
    "    maze = np.arange(0, nrow * ncol).reshape(nrow, ncol)\n",
    "\n",
    "    # Creating the wall states\n",
    "    wall_states = np.random.choice(range(1, nrow * ncol), size=maze_density, replace=False)\n",
    "\n",
    "    # Getting the list of wall coordinates\n",
    "    wall_coords = [get_state_coords(s, maze) for s in wall_states]\n",
    "\n",
    "    # Generating a starting state from the states that are NOT walls\n",
    "    start_state = np.random.choice(np.setdiff1d(maze, wall_states))\n",
    "\n",
    "    # Getting the starting coordinates\n",
    "    start_coords = get_state_coords(start_state, maze)\n",
    "\n",
    "    # Generating a goal state from the states that are NOT walls and NOT the starting state\n",
    "    goal_state = np.random.choice(np.setdiff1d(np.setdiff1d(maze, wall_states), start_state))\n",
    "\n",
    "    # Getting the goal coordinates\n",
    "    goal_coords = get_state_coords(goal_state, maze)\n",
    "\n",
    "    # return maze, wall_states\n",
    "    return maze, wall_coords, [start_coords], [goal_coords]"
   ]
  },
  {
   "cell_type": "code",
   "execution_count": 39,
   "metadata": {},
   "outputs": [],
   "source": [
    "maze, walls, start, goal = init_maze(6, 6, 8, 40)"
   ]
  },
  {
   "cell_type": "code",
   "execution_count": 40,
   "metadata": {},
   "outputs": [
    {
     "data": {
      "image/png": "[encoded data removed]",
      "text/plain": [
       "<Figure size 500x500 with 1 Axes>"
      ]
     },
     "metadata": {},
     "output_type": "display_data"
    }
   ],
   "source": [
    "plot_matrix(maze, goal_coords=goal, hole_coords=walls, start_coords=start, title=\"Maze\")"
   ]
  },
  {
   "cell_type": "code",
   "execution_count": null,
   "metadata": {},
   "outputs": [],
   "source": []
  }
 ],
 "metadata": {
  "kernelspec": {
   "display_name": "rl-env",
   "language": "python",
   "name": "python3"
  },
  "language_info": {
   "codemirror_mode": {
    "name": "ipython",
    "version": 3
   },
   "file_extension": ".py",
   "mimetype": "text/x-python",
   "name": "python",
   "nbconvert_exporter": "python",
   "pygments_lexer": "ipython3",
   "version": "3.9.13"
  },
  "orig_nbformat": 4,
  "vscode": {
   "interpreter": {
    "hash": "2cf5e1b4dfd04b667f9bceb775bba509c4b1aef371dee70d8088b9680fed7c5a"
   }
  }
 },
 "nbformat": 4,
 "nbformat_minor": 2
}
