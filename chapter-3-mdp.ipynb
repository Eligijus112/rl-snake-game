{
 "cells": [
  {
   "cell_type": "markdown",
   "metadata": {},
   "source": [
    "# Markov decision processes\n",
    "\n",
    "In the previous chapter with bandits, every time we made an action the environment did not change. In this chapter we will consider environments where the state of the world changes after we make an action. We will call these environments Markov decision processes (MDPs). We will also consider the problem of finding the best policy for an MDP, which is called the policy optimization problem.\n",
    "\n",
    "![](media/chapter-3/MDP-schema.png)"
   ]
  },
  {
   "cell_type": "markdown",
   "metadata": {},
   "source": [
    "The above figure shows the schema of a genral RL process: \n",
    "\n",
    "* An agent makes and action \n",
    "\n",
    "* The action perturbs the environment and the environment returns a reward and a new state\n",
    "\n",
    "* The agent uses the reward and the new state to update its policy\n",
    "\n",
    "* The cycle continues. "
   ]
  },
  {
   "cell_type": "markdown",
   "metadata": {},
   "source": [
    "Compared to the k - bandit examples, in MDP scenarios, each taken action alters the state of the environment that the agent operates in. The sequance of any MDP is: \n",
    "\n",
    "$$S_{0}, A_{0}, R_{1}, S_{1}, A_{1}, R_{2}, ...$$"
   ]
  },
  {
   "cell_type": "markdown",
   "metadata": {},
   "source": [
    "In an MDP, we can define three sets: \n",
    "\n",
    "$\\mathbb{S}$ - the set of all possible states \n",
    "\n",
    "$\\mathbb{A}$ - the set of all possible actions\n",
    "\n",
    "$\\mathbb{R}$ - the set of all possible rewards\n",
    "\n",
    "Then, the dynamics of an MDP process can be defined as a probability: \n",
    "\n",
    "$p(s^{*}, r| s, a) = P(S_{t} = s^{*}, R_{t} = r | S_{t-1} = s, A_{t-1}=a)$\n",
    "\n",
    "$S_{t} \\in \\mathbb{S}, R_{t} \\in \\mathbb{R}, A_{t} \\in \\mathbb{A}$  $\\forall t$\n",
    "\n",
    "Because we are dealing with probabilities, then: \n",
    "\n",
    "$$ \\sum_{s^{*} \\in \\mathbb{S}} \\sum_{r \\in \\mathbb{R}} p(s^{*}, r| s, a) = 1 $$\n",
    "\n"
   ]
  },
  {
   "cell_type": "markdown",
   "metadata": {},
   "source": [
    "# Returns and rewards\n",
    "\n",
    "The reward hypothesis states that: \n",
    "\n",
    "> The goal of an agent is to maximize the expected total reward it receives over the course of its lifetime.\n",
    "\n",
    "The expected return at time step $t$ is denoted as: \n",
    "\n",
    "$$G_{t} = R_{t+1} + R_{t+2} + ... + R_{T}$$ \n",
    "\n",
    "Where $T$ is the terminal time step when the episode ends. \n",
    "\n",
    "When there is no clear ending to the episode, the return is defined as:\n",
    "\n",
    "$$G_{t} = R_{t+1} + \\gamma R_{t+2} + \\gamma^{2} R_{t+3} + ...$$\n",
    "\n",
    "Where $\\gamma \\in [0, 1]$ is a discount factor."
   ]
  },
  {
   "cell_type": "markdown",
   "metadata": {},
   "source": [
    "# Policies and value functions \n",
    "\n",
    "A policy is a mapping (denoted as $\\pi$) from states to probabilities of taking a certain action.\n",
    "\n",
    "$$ \\pi : \\mathbb{S} \\rightarrow \\mathbb{A}$$ \n",
    "\n",
    "Or \n",
    "\n",
    "$$ \\pi(a \\in \\mathbb{A}| s \\in \\mathbb{S}) \\in [0, 1] $$\n",
    "\n",
    "The value function of a state $s$ under a policy $\\pi$, denoted $v_{\\pi}(s)$, is the expected return\n",
    "when starting in s and following $\\pi$ thereafter. The full definition is: \n",
    "\n",
    "$$ v_{\\pi} (s) = \\mathbb{E}_{\\pi} \\left[ G_{t} | S_{t} = s\\right] =  \\mathbb{E}_{\\pi} \\left[\\sum_{k = 0}^{\\infty}R_{t + k + 1} \\gamma^{k} | S_{t} = s\\right]$$\n",
    "\n",
    "The action value function, which assigns a value to taking an action $a$ in a state $s$ under a policy $\\pi$, is denoted $q_{\\pi}(s, a)$. The full definition is:\n",
    "\n",
    "$$ q_{\\pi} (s, a) = \\mathbb{E}_{\\pi} \\left[ G_{t} | S_{t} = s, A_{t} = a\\right] =  \\mathbb{E}_{\\pi} \\left[\\sum_{k = 0}^{\\infty}R_{t + k + 1} \\gamma^{k} | S_{t} = s, A_{t} = a\\right]$$"
   ]
  },
  {
   "attachments": {},
   "cell_type": "markdown",
   "metadata": {},
   "source": [
    "The Bellman equation for state value function is: \n",
    "\n",
    "$$ v_{\\pi}(s) = \\sum_{a \\in \\mathbb{A}} \\pi(a|s) \\sum_{s^{*} \\in \\mathbb{S}} \\sum_{r \\in \\mathbb{R}} p(s^{*}, r| s, a) \\left[ r + \\gamma v_{\\pi}(s^{*}) \\right] $$"
   ]
  },
  {
   "attachments": {},
   "cell_type": "markdown",
   "metadata": {},
   "source": [
    "Here \n",
    "\n",
    "$s^{*}$ - the next state from the current state $s$. \n",
    "\n",
    "The equation states that the value of a state is the `sum of the expected return of all possible actions taken in that state`. The Belman equation also has a recursive property. "
   ]
  },
  {
   "attachments": {},
   "cell_type": "markdown",
   "metadata": {},
   "source": [
    "## Belman's optimiality equations \n",
    "\n",
    "The Bellman optimality equation for the state value function is, as expressed from the action perspective:\n",
    "\n",
    "$$ v_{*}(s) = \\max_{a \\in \\mathbb{A}} \\sum_{s^{*} \\in \\mathbb{S}} \\sum_{r \\in \\mathbb{R}} p(s^{*}, r| s, a) \\left[ r + \\gamma v_{*}(s^{*}) \\right] $$\n",
    "\n",
    "In terms of the action value function, the Bellman optimality equation is:\n",
    "\n",
    "$$ q_{*}(s, a) = \\sum_{s^{*} \\in \\mathbb{S}} \\sum_{r \\in \\mathbb{R}} p(s^{*}, r| s, a) \\left[ r + \\gamma \\max_{a^{*} \\in \\mathbb{A}} q_{*}(s^{*}, a^{*}) \\right] $$"
   ]
  },
  {
   "attachments": {},
   "cell_type": "markdown",
   "metadata": {},
   "source": [
    "In both equations, we want to find the best action for a given state. The actions which maximize both $v_{*}(s)$ and $q_{*}(s, a)$ are called optimal actions. "
   ]
  },
  {
   "attachments": {},
   "cell_type": "markdown",
   "metadata": {},
   "source": [
    "# Dynamic programming for solving MDPs\n",
    "\n",
    "Dynamic programming is a method for solving MDPs. It is based on the Bellman optimality equations. \n",
    "\n",
    "The update rule for the state value function is:\n",
    "\n",
    "$$ v_{k+1}(s) = \\max_{a \\in \\mathbb{A}} \\sum_{s^{*} \\in \\mathbb{S}} \\sum_{r \\in \\mathbb{R}} p(s^{*}, r| s, a) \\left[ r + \\gamma v_{k}(s^{*}) \\right] $$\n",
    "\n",
    "The update rule for the action value function is:\n",
    "\n",
    "$$ q_{k+1}(s, a) = \\sum_{s^{*} \\in \\mathbb{S}} \\sum_{r \\in \\mathbb{R}} p(s^{*}, r| s, a) \\left[ r + \\gamma \\max_{a^{*} \\in \\mathbb{A}} q_{k}(s^{*}, a^{*}) \\right] $$"
   ]
  },
  {
   "attachments": {},
   "cell_type": "markdown",
   "metadata": {},
   "source": [
    "Let us solve a frozen lake problem using dynamic programming.\n",
    "\n",
    "## Frozen lake problem\n",
    "\n",
    "Imagine that our agent can move on a 5 x 5 grid. The goal is to move from the starting position to the goal. The agent can move on blocks of ice, but if it moves on a hole, it will fall into the water and the episode will end. "
   ]
  },
  {
   "cell_type": "code",
   "execution_count": 33,
   "metadata": {},
   "outputs": [
    {
     "data": {
      "image/png": "[encoded data removed]",
      "text/plain": [
       "<Figure size 1000x1000 with 2 Axes>"
      ]
     },
     "metadata": {},
     "output_type": "display_data"
    }
   ],
   "source": [
    "# Importing the needed packages\n",
    "import pandas as pd \n",
    "import numpy as np\n",
    "import matplotlib.pyplot as plt\n",
    "\n",
    "# Defining the number of blocks of a n x n grid \n",
    "n = 5 \n",
    "\n",
    "# Initiating an empty dataframe of size n x n\n",
    "df = pd.DataFrame(np.zeros((n,n)))\n",
    "\n",
    "# The bottom left corner is the starting position; \n",
    "# The top right corner is the goal position \n",
    "# On each line of the frozen lake, we will randomly generate one hole \n",
    "# Each block's reward is -1 except for the goal block which is 10. The hole blocks are -10. \n",
    "df.loc[n - 1, 0] = -1 # starting position\n",
    "df.loc[0, n - 1] = 10 # goal position\n",
    "for i in range(0, n):\n",
    "    if i == n - 1:\n",
    "        # At the last row, the hole cannot be starting position \n",
    "        df.loc[i, np.random.randint(1, n - 1)] = -10\n",
    "    elif i == 0:\n",
    "        # At the first row, the hole cannot be goal position \n",
    "        df.loc[i, np.random.randint(0, n - 2)] = -10\n",
    "    else:\n",
    "        df.loc[i, np.random.randint(0, n - 1)] = -10 # hole position\n",
    "\n",
    "# All the 0 blocks are converted to -1 \n",
    "df[df == 0] = -1\n",
    "\n",
    "# Defining the coloring dictionary for each of the blocks\n",
    "color_dict = {-1: 'blue', -10: 'red', 10: 'green'}\n",
    "\n",
    "# Ploting the dataframe\n",
    "plt.figure(figsize = (10, 10))\n",
    "plt.imshow(df, cmap = plt.cm.RdYlGn)\n",
    "plt.colorbar()\n",
    "plt.xticks(np.arange(0, n, 1))\n",
    "plt.yticks(np.arange(0, n, 1))\n",
    "for i in range(n):\n",
    "    for j in range(n):\n",
    "        plt.text(j, i, df.loc[i, j], ha = 'center', va = 'center', color = color_dict[df.loc[i, j]])\n",
    "plt.show()\n"
   ]
  },
  {
   "cell_type": "code",
   "execution_count": null,
   "metadata": {},
   "outputs": [],
   "source": []
  }
 ],
 "metadata": {
  "kernelspec": {
   "display_name": "Python 3.9.13 ('rl-env': venv)",
   "language": "python",
   "name": "python3"
  },
  "language_info": {
   "codemirror_mode": {
    "name": "ipython",
    "version": 3
   },
   "file_extension": ".py",
   "mimetype": "text/x-python",
   "name": "python",
   "nbconvert_exporter": "python",
   "pygments_lexer": "ipython3",
   "version": "3.9.13 (main, Aug 25 2022, 23:26:10) \n[GCC 11.2.0]"
  },
  "orig_nbformat": 4,
  "vscode": {
   "interpreter": {
    "hash": "2cf5e1b4dfd04b667f9bceb775bba509c4b1aef371dee70d8088b9680fed7c5a"
   }
  }
 },
 "nbformat": 4,
 "nbformat_minor": 2
}
